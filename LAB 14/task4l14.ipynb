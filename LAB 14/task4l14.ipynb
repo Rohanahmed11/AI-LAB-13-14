{
 "cells": [
  {
   "cell_type": "code",
   "execution_count": 2,
   "id": "ad184ae4-f564-4aa4-8316-5f510d33c449",
   "metadata": {},
   "outputs": [
    {
     "name": "stdout",
     "output_type": "stream",
     "text": [
      "Student ID: 1, Name: Hassan, Grade: 85\n",
      "Student ID: 2, Name: Bilal, Grade: 90\n",
      "Student ID: 3, Name: Hamza, Grade: 78\n",
      "Student ID: 4, Name: Ali, Grade: 75\n",
      "Student ID: 5, Name: Zohaib, Grade: 60\n",
      "Average grade of all students: 77.60\n"
     ]
    }
   ],
   "source": [
    "# Create an empty dictionary to store student information\n",
    "student_db = {}\n",
    "\n",
    "# Function to add a student to the student_db dictionary\n",
    "def add_student(student_id, name, grade):\n",
    "    student_db[student_id] = {'name': name, 'grade': grade}\n",
    "\n",
    "# Function to display all students' information in the student_db\n",
    "def display_students():\n",
    "    if not student_db:\n",
    "        print(\"No students in the database.\")\n",
    "        return\n",
    "    for student_id, info in student_db.items():\n",
    "        print(f\"Student ID: {student_id}, Name: {info['name']}, Grade: {info['grade']}\")\n",
    "\n",
    "# Function to calculate and return the average grade of all students\n",
    "def get_average_grade():\n",
    "    if not student_db:\n",
    "        print(\"No students in the database to calculate average grade.\")\n",
    "        return 0\n",
    "    total_grade = sum(info['grade'] for info in student_db.values())\n",
    "    average_grade = total_grade / len(student_db)\n",
    "    return average_grade\n",
    "\n",
    "# Example usage:\n",
    "# Adding students to the student_db\n",
    "add_student(1, \"Hassan\", 85)\n",
    "add_student(2, \"Bilal\", 90)\n",
    "add_student(3, \"Hamza\", 78)\n",
    "add_student(4, \"Ali\", 75)\n",
    "add_student(5, \"Zohaib\", 60)\n",
    "\n",
    "# Displaying all students' information\n",
    "display_students()\n",
    "\n",
    "# Calculating and displaying the average grade of all students\n",
    "average_grade = get_average_grade()\n",
    "print(f\"Average grade of all students: {average_grade:.2f}\")\n"
   ]
  },
  {
   "cell_type": "code",
   "execution_count": null,
   "id": "015f0328-602f-4bcc-9bb9-39800f5c5d4e",
   "metadata": {},
   "outputs": [],
   "source": []
  }
 ],
 "metadata": {
  "kernelspec": {
   "display_name": "Python 3 (ipykernel)",
   "language": "python",
   "name": "python3"
  },
  "language_info": {
   "codemirror_mode": {
    "name": "ipython",
    "version": 3
   },
   "file_extension": ".py",
   "mimetype": "text/x-python",
   "name": "python",
   "nbconvert_exporter": "python",
   "pygments_lexer": "ipython3",
   "version": "3.12.7"
  }
 },
 "nbformat": 4,
 "nbformat_minor": 5
}
