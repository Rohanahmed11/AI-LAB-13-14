{
 "cells": [
  {
   "cell_type": "code",
   "execution_count": 1,
   "id": "eebec0a8-f0e7-432d-8372-d962b96dc5ab",
   "metadata": {},
   "outputs": [
    {
     "name": "stdout",
     "output_type": "stream",
     "text": [
      "Open List: ['B', 'C']\n",
      "Closed List: ['A']\n",
      "Open List: ['B', 'F']\n",
      "Closed List: ['A', 'C']\n",
      "Goal 'F' found!\n",
      "DFS Complete!\n"
     ]
    }
   ],
   "source": [
    "def dfs(graph, start, goal):\n",
    "    open_list = [start]\n",
    "    closed_list = set()\n",
    "    \n",
    "    while open_list:\n",
    "        current = open_list.pop()\n",
    "        if current in closed_list:\n",
    "            continue\n",
    "        closed_list.add(current)\n",
    "        \n",
    "        if current == goal:\n",
    "            print(f\"Goal '{goal}' found!\")\n",
    "            break\n",
    "        \n",
    "        open_list.extend(graph[current] - closed_list)\n",
    "        print(f\"Open List: {open_list}\")\n",
    "        print(f\"Closed List: {list(closed_list)}\")\n",
    "    \n",
    "    print(\"DFS Complete!\")\n",
    "\n",
    "graph = {\n",
    "    'A': {'B', 'C'},\n",
    "    'B': {'A', 'D', 'E'},\n",
    "    'C': {'A', 'F'},\n",
    "    'D': {'B'},\n",
    "    'E': {'B'},\n",
    "    'F': {'C'}\n",
    "}\n",
    "\n",
    "dfs(graph, 'A', 'F')\n"
   ]
  },
  {
   "cell_type": "code",
   "execution_count": null,
   "id": "c838251b-2d3d-494d-a033-258d0e4f40cb",
   "metadata": {},
   "outputs": [],
   "source": []
  }
 ],
 "metadata": {
  "kernelspec": {
   "display_name": "Python 3 (ipykernel)",
   "language": "python",
   "name": "python3"
  },
  "language_info": {
   "codemirror_mode": {
    "name": "ipython",
    "version": 3
   },
   "file_extension": ".py",
   "mimetype": "text/x-python",
   "name": "python",
   "nbconvert_exporter": "python",
   "pygments_lexer": "ipython3",
   "version": "3.12.7"
  }
 },
 "nbformat": 4,
 "nbformat_minor": 5
}
