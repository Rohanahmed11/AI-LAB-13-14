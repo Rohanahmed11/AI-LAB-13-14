{
 "cells": [
  {
   "cell_type": "code",
   "execution_count": 4,
   "id": "af73dbed-77fc-42a9-a379-dc759681d592",
   "metadata": {},
   "outputs": [
    {
     "name": "stdout",
     "output_type": "stream",
     "text": [
      "Total number of employees: 4\n",
      "Employee Name: Kaleemullah\n",
      "Employee ID: 101\n",
      "Employee Salary: $50000\n",
      "Employee Name: Saleemullah\n",
      "Employee ID: 102\n",
      "Employee Salary: $60000\n",
      "Employee Name: Junaid\n",
      "Employee ID: 102\n",
      "Employee Salary: $70000\n",
      "Employee Name: Hammad\n",
      "Employee ID: 102\n",
      "Employee Salary: $90000\n"
     ]
    }
   ],
   "source": [
    "class Employee:\n",
    "    # Class variable to keep track of total number of employees\n",
    "    total_employees = 0\n",
    "\n",
    "    def __init__(self, empName, empID, salary):\n",
    "        self.empName = empName  # Employee Name\n",
    "        self.empID = empID      # Employee ID\n",
    "        self.salary = salary    # Employee Salary\n",
    "        Employee.total_employees += 1  # Increment employee count\n",
    "\n",
    "    @classmethod\n",
    "    def displayCount(cls):\n",
    "        print(f\"Total number of employees: {cls.total_employees}\")\n",
    "\n",
    "    def displayEmployee(self):\n",
    "        print(f\"Employee Name: {self.empName}\")\n",
    "        print(f\"Employee ID: {self.empID}\")\n",
    "        print(f\"Employee Salary: ${self.salary}\")\n",
    "\n",
    "# Example usage:\n",
    "emp1 = Employee(\"Kaleemullah\", 101, 50000)\n",
    "emp2 = Employee(\"Saleemullah\", 102, 60000)\n",
    "emp3 = Employee(\"Junaid\", 102, 70000)\n",
    "emp4 = Employee(\"Hammad\", 102, 90000)\n",
    "# Display total number of employees\n",
    "Employee.displayCount()\n",
    "\n",
    "# Display details of individual employees\n",
    "emp1.displayEmployee()\n",
    "emp2.displayEmployee()\n",
    "emp3.displayEmployee()\n",
    "emp4.displayEmployee()"
   ]
  },
  {
   "cell_type": "code",
   "execution_count": null,
   "id": "30fc61f2-942d-45be-ad3d-120b648bf5bb",
   "metadata": {},
   "outputs": [],
   "source": []
  }
 ],
 "metadata": {
  "kernelspec": {
   "display_name": "Python 3 (ipykernel)",
   "language": "python",
   "name": "python3"
  },
  "language_info": {
   "codemirror_mode": {
    "name": "ipython",
    "version": 3
   },
   "file_extension": ".py",
   "mimetype": "text/x-python",
   "name": "python",
   "nbconvert_exporter": "python",
   "pygments_lexer": "ipython3",
   "version": "3.12.7"
  }
 },
 "nbformat": 4,
 "nbformat_minor": 5
}
