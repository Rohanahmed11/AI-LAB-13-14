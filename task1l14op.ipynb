{
 "cells": [
  {
   "cell_type": "code",
   "execution_count": 6,
   "id": "42aa0a6f-e910-44ee-9175-0f1eb284cbcf",
   "metadata": {},
   "outputs": [
    {
     "name": "stdout",
     "output_type": "stream",
     "text": [
      "Open List: []\n",
      "Closed List: ['A']\n",
      "Open List: ['C']\n",
      "Closed List: ['A', 'B']\n",
      "Open List: ['D', 'E']\n",
      "Closed List: ['A', 'B', 'C']\n",
      "Open List: ['E', 'F']\n",
      "Closed List: ['A', 'B', 'C', 'D']\n",
      "Open List: ['F']\n",
      "Closed List: ['A', 'B', 'C', 'D', 'E']\n",
      "Open List: []\n",
      "Closed List: ['A', 'B', 'C', 'D', 'E', 'F']\n",
      "Goal F found!\n"
     ]
    }
   ],
   "source": [
    "from collections import deque\n",
    "\n",
    "# Define the graph as an adjacency list\n",
    "graph = {\n",
    "    'A': ['B', 'C'],\n",
    "    'B': ['A', 'D', 'E'],\n",
    "    'C': ['A', 'F'],\n",
    "    'D': ['B'],\n",
    "    'E': ['B'],\n",
    "    'F': ['C']\n",
    "}\n",
    "\n",
    "def bfs(graph, start, goal):\n",
    "    open_list = deque([start])  # Queue to explore nodes\n",
    "    closed_list = []  # List to track explored nodes\n",
    "\n",
    "    while open_list:\n",
    "        current_node = open_list.popleft()\n",
    "        closed_list.append(current_node)\n",
    "\n",
    "        print(f\"Open List: {list(open_list)}\")\n",
    "        print(f\"Closed List: {closed_list}\")\n",
    "        \n",
    "        if current_node == goal:\n",
    "            print(f\"Goal {goal} found!\")\n",
    "            break\n",
    "\n",
    "        for neighbor in graph[current_node]:\n",
    "            if neighbor not in closed_list and neighbor not in open_list:\n",
    "                open_list.append(neighbor)\n",
    "\n",
    "# Running BFS starting from node 'A' to find node 'F'\n",
    "bfs(graph, 'A', 'F')\n"
   ]
  },
  {
   "cell_type": "code",
   "execution_count": null,
   "id": "e221e58d-c2d9-4c78-a95a-f00cabf0cea0",
   "metadata": {},
   "outputs": [],
   "source": []
  }
 ],
 "metadata": {
  "kernelspec": {
   "display_name": "Python 3 (ipykernel)",
   "language": "python",
   "name": "python3"
  },
  "language_info": {
   "codemirror_mode": {
    "name": "ipython",
    "version": 3
   },
   "file_extension": ".py",
   "mimetype": "text/x-python",
   "name": "python",
   "nbconvert_exporter": "python",
   "pygments_lexer": "ipython3",
   "version": "3.12.7"
  }
 },
 "nbformat": 4,
 "nbformat_minor": 5
}
